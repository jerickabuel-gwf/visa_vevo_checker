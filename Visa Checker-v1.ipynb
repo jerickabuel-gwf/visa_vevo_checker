{
 "cells": [
  {
   "cell_type": "code",
   "execution_count": null,
   "id": "b84e54e8-9a45-4696-bcc6-f3b762da4d1c",
   "metadata": {},
   "outputs": [],
   "source": [
    "### API Call\n",
    "# https://www.ecom.immi.gov.au/evo/ws/first-party/json?country=IDN&dateofbirth=20010108&passport=E3645392&visagrant=0579584823213"
   ]
  },
  {
   "cell_type": "code",
   "execution_count": null,
   "id": "a9e52bf3-186c-4dce-af07-54a9f8419b24",
   "metadata": {},
   "outputs": [],
   "source": [
    "import json\n",
    "import pandas as pd\n",
    "import requests\n",
    "from datetime import datetime\n",
    "import re, os\n",
    "import numpy as np\n",
    "\n",
    "\n",
    "path_to_open = 'C:\\\\Users\\\\'\n",
    "os.system(f'explorer {path_to_open}')"
   ]
  },
  {
   "cell_type": "code",
   "execution_count": 5,
   "id": "48632686-f00d-4873-94fd-6c1dfa316b63",
   "metadata": {},
   "outputs": [
    {
     "name": "stdout",
     "output_type": "stream",
     "text": [
      "Selected file: C:/Users/abueljerick/Downloads/Sample-Bulk-Recipient (3).csv\n"
     ]
    }
   ],
   "source": [
    "import tkinter as tk\n",
    "from tkinter import filedialog\n",
    "\n",
    "def select_file():\n",
    "    # Create a root window and hide it\n",
    "    root = tk.Tk()\n",
    "    root.withdraw()\n",
    "    #root.wm_attributes('-topmost', 1)\n",
    "    \n",
    "    # Open file dialog and get the selected file path\n",
    "    file_path = filedialog.askopenfilename()\n",
    "    \n",
    "    # Print the selected file path\n",
    "    print(f'Selected file: {file_path}')\n",
    "    \n",
    "    return file_path\n",
    "\n",
    "# Call the function and get the file path\n",
    "selected_file_path = select_file()"
   ]
  },
  {
   "cell_type": "code",
   "execution_count": null,
   "id": "adfeda5f-7ca6-4bf6-9b10-e5c88d59d691",
   "metadata": {},
   "outputs": [],
   "source": [
    "bulk_visa_path = \"C:\\\\Users\\\\abueljerick\\\\OneDrive - GWF\\\\Documents\\\\Reports\\\\10 Temporary Visa about to Expire\\\\Visa Checker\\\\03 Input Files\\\\Visa Bulk Import Template.xlsx\"\n",
    "bulk_visa_df = pd.read_excel(bulk_visa_path, dtype=str, sheet_name = \"Input Visa Here\" )\n",
    "bulk_visa_df['Birthday'] = pd.to_datetime(bulk_visa_df['Birthday']).dt.strftime(\"%Y/%m/%d\")\n",
    "bulk_visa_dict = bulk_visa_df.to_dict('index')\n",
    "\n",
    "list_for_concat = []\n",
    "visa_cols = ['visaGrantNumber','visaSubclass','visaDescription','visaGrantDate','visaExpiryDate','visaStatus','workEntitlements','visaConditions']\n",
    "\n",
    "def remove_html_tags(text):\n",
    "    try:\n",
    "        clean = re.compile('<.*?>')\n",
    "        return re.sub(clean, '', text)\n",
    "    except TypeError:\n",
    "        return np.nan\n",
    "\n",
    "json_url = \"https://www.ecom.immi.gov.au/evo/ws/first-party/json\"\n",
    "\n",
    "class VEVO:\n",
    "    def __init__(self, dob, passport, country_code, visa_number):\n",
    "        self.n = visa_number\n",
    "        self.p = passport\n",
    "        self.c = country_code\n",
    "        self.dob = dob\n",
    "\n",
    "    def visa(self):\n",
    "        visa = {}\n",
    "        response = requests.get(self.prepare_url(),verify=False)\n",
    "        if response.status_code != 200:\n",
    "            raise Exception(f\"HTTP call failed: {response.status_code}\")\n",
    "        return response.json()\n",
    "\n",
    "    def prepare_url(self):\n",
    "        u = f\"{json_url}?\"\n",
    "        params = {\n",
    "            \"passport\": self.p.upper(),\n",
    "            \"country\": self.c.upper(),\n",
    "            \"dateofbirth\": self.dob.strftime(\"%Y%m%d\"),\n",
    "        }\n",
    "        vn = self.n.upper()\n",
    "        if vn.startswith(\"E\"):\n",
    "            params[\"trn\"] = vn\n",
    "        else:\n",
    "            params[\"visagrant\"] = vn\n",
    "        u += \"&\".join([f\"{key}={value}\" for key, value in params.items()])\n",
    "        return u\n",
    "\n",
    "if __name__ == \"__main__\":\n",
    "    for visa_details in bulk_visa_dict.values(): \n",
    "        # date of birth\n",
    "        dob = datetime.strptime(visa_details['Birthday'], \"%Y/%m/%d\" )\n",
    "\n",
    "        # passport number\n",
    "        passport = visa_details['Passport Number']\n",
    "        # country code\n",
    "        cc = visa_details['Country']\n",
    "        # visa grant number or transaction reference number\n",
    "        vgn = visa_details['Visa Grant Number']\n",
    "        v = VEVO(dob, passport, cc, vgn)\n",
    "        try:\n",
    "            visa = v.visa()\n",
    "            ### Separate dictionaries\n",
    "            entitlementDetails = visa['entitlementDetails']\n",
    "            visa.pop('entitlementDetails',None)\n",
    "            ### merge back\n",
    "            visa.update(entitlementDetails)\n",
    "            visa.pop('enquiryDetails',None)\n",
    "            visa.pop('visaConditionCodes',None)\n",
    "\n",
    "            ## write to dataframe\n",
    "            df = pd.DataFrame(visa,index=[0])\n",
    "            df = df[visa_cols]\n",
    "            list_for_concat.append(df)\n",
    "        except Exception as err:\n",
    "            print(err)\n",
    "\n",
    "        ### merge result in the input df\n",
    "        visa_result_df = pd.concat(list_for_concat)\n",
    "        final_df = bulk_visa_df.merge(visa_result_df, how = 'left', left_on = 'Visa Grant Number', right_on = 'visaGrantNumber' )\n",
    "        final_df['workEntitlements'] = final_df['workEntitlements'].apply(remove_html_tags)\n",
    "        final_df['visaConditions'] = final_df['visaConditions'].apply(remove_html_tags)"
   ]
  },
  {
   "cell_type": "code",
   "execution_count": null,
   "id": "bbf300f4-a738-4cba-80d9-99d26df48f7d",
   "metadata": {},
   "outputs": [],
   "source": [
    "date_str = datetime.today().strftime(\"%d%m%Y\")\n",
    "output_file_name = 'C:\\\\Users\\\\abueljerick\\\\OneDrive - GWF\\\\Documents\\\\Reports\\\\10 Temporary Visa about to Expire\\Visa Checker\\\\04 Output Files\\\\Visa Vevo Bulk Check '+date_str+'.xlsx'\n",
    "\n",
    "# creating an ExcelWriter object\n",
    "with pd.ExcelWriter(output_file_name) as writer:\n",
    "    final_df.to_excel(writer, sheet_name=date_str, index=False)"
   ]
  },
  {
   "cell_type": "code",
   "execution_count": 2,
   "id": "0d8ff7e6-ea46-46cf-a660-5d289d0d08f4",
   "metadata": {},
   "outputs": [
    {
     "name": "stdout",
     "output_type": "stream",
     "text": [
      "Requirement already satisfied: pyinstaller in c:\\users\\abueljerick\\appdata\\roaming\\python\\python311\\site-packages (6.11.0)\n",
      "Requirement already satisfied: setuptools>=42.0.0 in c:\\programdata\\anaconda3\\lib\\site-packages (from pyinstaller) (68.2.2)\n",
      "Requirement already satisfied: altgraph in c:\\users\\abueljerick\\appdata\\roaming\\python\\python311\\site-packages (from pyinstaller) (0.17.4)\n",
      "Requirement already satisfied: pyinstaller-hooks-contrib>=2024.8 in c:\\users\\abueljerick\\appdata\\roaming\\python\\python311\\site-packages (from pyinstaller) (2024.9)\n",
      "Requirement already satisfied: packaging>=22.0 in c:\\programdata\\anaconda3\\lib\\site-packages (from pyinstaller) (23.1)\n",
      "Requirement already satisfied: pefile!=2024.8.26,>=2022.5.30 in c:\\users\\abueljerick\\appdata\\roaming\\python\\python311\\site-packages (from pyinstaller) (2023.2.7)\n",
      "Requirement already satisfied: pywin32-ctypes>=0.2.1 in c:\\users\\abueljerick\\appdata\\roaming\\python\\python311\\site-packages (from pyinstaller) (0.2.3)\n"
     ]
    }
   ],
   "source": [
    "!pip install --trusted-host pypi.org --trusted-host pypi.python.org --trusted-host files.pythonhosted.org pyinstaller --user"
   ]
  },
  {
   "cell_type": "code",
   "execution_count": 4,
   "id": "221283de-ab3b-4055-8254-eeb21d9ea2d4",
   "metadata": {},
   "outputs": [
    {
     "ename": "ModuleNotFoundError",
     "evalue": "No module named 'pyinstaller'",
     "output_type": "error",
     "traceback": [
      "\u001b[1;31m---------------------------------------------------------------------------\u001b[0m",
      "\u001b[1;31mModuleNotFoundError\u001b[0m                       Traceback (most recent call last)",
      "Cell \u001b[1;32mIn[4], line 1\u001b[0m\n\u001b[1;32m----> 1\u001b[0m \u001b[38;5;28;01mimport\u001b[39;00m \u001b[38;5;21;01mpyinstaller\u001b[39;00m\n",
      "\u001b[1;31mModuleNotFoundError\u001b[0m: No module named 'pyinstaller'"
     ]
    }
   ],
   "source": [
    "import pyinstaller"
   ]
  },
  {
   "cell_type": "code",
   "execution_count": null,
   "id": "e9795f56-bc5a-4e43-b83d-1ff54bb4d036",
   "metadata": {},
   "outputs": [],
   "source": []
  }
 ],
 "metadata": {
  "kernelspec": {
   "display_name": "Python 3 (ipykernel)",
   "language": "python",
   "name": "python3"
  },
  "language_info": {
   "codemirror_mode": {
    "name": "ipython",
    "version": 3
   },
   "file_extension": ".py",
   "mimetype": "text/x-python",
   "name": "python",
   "nbconvert_exporter": "python",
   "pygments_lexer": "ipython3",
   "version": "3.11.7"
  }
 },
 "nbformat": 4,
 "nbformat_minor": 5
}
